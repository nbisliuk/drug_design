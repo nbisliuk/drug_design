{
 "cells": [
  {
   "cell_type": "code",
   "execution_count": 1,
   "id": "f0e1b5c9",
   "metadata": {},
   "outputs": [],
   "source": [
    "import keras\n",
    "from keras.preprocessing.sequence import pad_sequences\n",
    "from keras.utils import to_categorical\n",
    "from keras import layers\n",
    "from keras.initializers import RandomNormal\n",
    "from keras.callbacks import EarlyStopping, ModelCheckpoint\n",
    "\n",
    "from sklearn.model_selection import train_test_split\n",
    "import numpy as np\n",
    "import re\n",
    "import pickle\n",
    "\n",
    "from classes import Tokenizer, DataGenerator"
   ]
  },
  {
   "cell_type": "code",
   "execution_count": 2,
   "id": "88d9bad5",
   "metadata": {},
   "outputs": [
    {
     "data": {
      "text/plain": [
       "['O=C1OC(=O)c2c1cc1cc3c(cc1c2-c1ccc2c(c1)OCO2)OCO3',\n",
       " 'CC1(C)CCC(CN2CCN(c3ccc(C(=O)NS(=O)(=O)c4ccc(NC5CN(C6CCOCC6)C5)c([N+](=O)[O-])c4)c(Oc4cnc5[nH]ccc5c4)c3)CC2)=C(c2ccc(Cl)cc2)C1',\n",
       " 'CCC(=O)Oc1ccc2c(=O)n(Cc3cccc(NS(=O)(=O)NC)c3F)c(=O)oc2c1']"
      ]
     },
     "execution_count": 2,
     "metadata": {},
     "output_type": "execute_result"
    }
   ],
   "source": [
    "# Load smiles from file\n",
    "with open(\"data/cleaned_smiles.smi\") as file:\n",
    "    smiles = [line.strip() for line in file][:2000]\n",
    "\n",
    "smiles[:3]"
   ]
  },
  {
   "cell_type": "code",
   "execution_count": 5,
   "id": "e9d60939",
   "metadata": {},
   "outputs": [
    {
     "name": "stdout",
     "output_type": "stream",
     "text": [
      "Maxumin length is 124\n",
      "['GO=C1OC(=O)c2c1cc1cc3c(cc1c2-c1ccc2c(c1)OCO2)OCO3EAAAAAAAAAAAAAAAAAAAAAAAAAAAAAAAAAAAAAAAAAAAAAAAAAAAAAAAAAAAAAAAAAAAAAAAAAAAA', 'GCC1(C)CCC(CN2CCN(c3ccc(C(=O)NS(=O)(=O)c4ccc(NC5CN(C6CCOCC6)C5)c([N+](=O)[O-])c4)c(Oc4cnc5[nH]ccc5c4)c3)CC2)=C(c2ccc(Cl)cc2)C1E', 'GCCC(=O)Oc1ccc2c(=O)n(Cc3cccc(NS(=O)(=O)NC)c3F)c(=O)oc2c1EAAAAAAAAAAAAAAAAAAAAAAAAAAAAAAAAAAAAAAAAAAAAAAAAAAAAAAAAAAAAAAAAAAAA', 'GCCOC(=O)COc1cc(-c2cc(=O)c3c(O)cc(OCC(=O)N4CC[N+](C)(Cc5ccc(OC)c(OC)c5OC)CC4)cc3o2)ccc1OCEAAAAAAAAAAAAAAAAAAAAAAAAAAAAAAAAAAAA', 'GCCN(CC)CC1CCCCN1CC(=O)N1c2ccc(Cl)cc2C(=O)Nc2cccnc21EAAAAAAAAAAAAAAAAAAAAAAAAAAAAAAAAAAAAAAAAAAAAAAAAAAAAAAAAAAAAAAAAAAAAAAAAAA']\n"
     ]
    }
   ],
   "source": [
    "tokenizer = Tokenizer()\n",
    "\n",
    "maxlen = np.max([len(tokenizer.tokenize(smi)) for smi in smiles])\n",
    "print(f\"Maxumin length is {maxlen}\")\n",
    "\n",
    "pad_smiles = ['G' + smi + 'E' + 'A' * (maxlen - len(tokenizer.tokenize(smi))) for smi in smiles]\n",
    "print(pad_smiles[:5])\n",
    "      \n",
    "tokenizer.fit_on_texts(pad_smiles)\n",
    "\n",
    "X = tokenizer.texts_to_vector([smi[:-1] for smi in pad_smiles])\n",
    "y = tokenizer.texts_to_vector([smi[1:] for smi in pad_smiles])"
   ]
  },
  {
   "cell_type": "code",
   "execution_count": 6,
   "id": "7622ed7d",
   "metadata": {},
   "outputs": [],
   "source": [
    "# Save tokenizer\n",
    "with open('models/tokenizer.pkl', 'wb') as file:\n",
    "    pickle.dump(tokenizer, file)"
   ]
  },
  {
   "cell_type": "code",
   "execution_count": 11,
   "id": "b0153844",
   "metadata": {},
   "outputs": [],
   "source": [
    "# Split into train test\n",
    "X_train, X_valid, y_train, y_valid = train_test_split(X, y, test_size=0.1,\n",
    "                                                     shuffle=True, random_state=11)\n",
    "\n",
    "num_classes = tokenizer.vocab_len\n",
    "batch_size = 256\n",
    "n_epoch = 10\n",
    "\n",
    "# Build a generator from X_train and y_train \n",
    "train_generator = DataGenerator(X_train, y_train, batch_size, num_classes)\n",
    "\n",
    "# Validation dataset have to be data itself not generator\n",
    "X_valid = np.asarray([to_categorical(x, num_classes) for x in X_valid])\n",
    "y_valid = np.asarray([to_categorical(x, num_classes) for x in y_valid])"
   ]
  },
  {
   "cell_type": "code",
   "execution_count": 12,
   "id": "ffdf8f9b",
   "metadata": {},
   "outputs": [
    {
     "name": "stdout",
     "output_type": "stream",
     "text": [
      "Model: \"sequential_1\"\n",
      "_________________________________________________________________\n",
      "Layer (type)                 Output Shape              Param #   \n",
      "=================================================================\n",
      "lstm_2 (LSTM)                (None, None, 256)         301056    \n",
      "_________________________________________________________________\n",
      "lstm_3 (LSTM)                (None, None, 256)         525312    \n",
      "_________________________________________________________________\n",
      "dense_1 (Dense)              (None, None, 37)          9509      \n",
      "=================================================================\n",
      "Total params: 835,877\n",
      "Trainable params: 835,877\n",
      "Non-trainable params: 0\n",
      "_________________________________________________________________\n"
     ]
    }
   ],
   "source": [
    "# Initialize random biases\n",
    "weight_init = RandomNormal(mean=0.0,\n",
    "                           stddev=0.05,\n",
    "                           seed=11)\n",
    "\n",
    "# Build model\n",
    "model = keras.models.Sequential()\n",
    "model.add(layers.LSTM(256, input_shape=(None, num_classes),\n",
    "                      return_sequences=True, dropout=0.3,\n",
    "                      kernel_initializer=weight_init))\n",
    "\n",
    "model.add(layers.LSTM(256, input_shape=(None, num_classes),\n",
    "                      return_sequences=True, dropout=0.5,\n",
    "                     kernel_initializer=weight_init))\n",
    "\n",
    "model.add(layers.Dense(num_classes, activation='softmax', kernel_initializer=weight_init))\n",
    "\n",
    "\n",
    "model.compile(loss='categorical_crossentropy', optimizer='adam')\n",
    "\n",
    "model.summary()"
   ]
  },
  {
   "cell_type": "code",
   "execution_count": 13,
   "id": "4f8c5ea0",
   "metadata": {},
   "outputs": [],
   "source": [
    "# Callbacks to save intermediae results\n",
    "early_stopping = EarlyStopping(monitor='val_loss', mode='min', patience=5)\n",
    "model_checkpoint = ModelCheckpoint(filepath = 'models/best_model.h5',\n",
    "                                   monitor='val_loss', mode='min', save_best_only=True,\n",
    "                                  save_weights_only=False)\n",
    "\n"
   ]
  },
  {
   "cell_type": "code",
   "execution_count": null,
   "id": "6d84e9e9",
   "metadata": {},
   "outputs": [
    {
     "name": "stdout",
     "output_type": "stream",
     "text": [
      "Epoch 1/10\n",
      "WARNING:tensorflow:multiprocessing can interact badly with TensorFlow, causing nondeterministic deadlocks. For high performance data pipelines tf.data is recommended.\n",
      "7/7 [==============================] - 9s 977ms/step - loss: 3.1393 - val_loss: 1.9347\n",
      "Epoch 2/10\n",
      "WARNING:tensorflow:multiprocessing can interact badly with TensorFlow, causing nondeterministic deadlocks. For high performance data pipelines tf.data is recommended.\n",
      "7/7 [==============================] - 6s 880ms/step - loss: 1.7765 - val_loss: 1.4625\n",
      "Epoch 3/10\n",
      "WARNING:tensorflow:multiprocessing can interact badly with TensorFlow, causing nondeterministic deadlocks. For high performance data pipelines tf.data is recommended.\n",
      "7/7 [==============================] - 5s 674ms/step - loss: 1.4503 - val_loss: 1.3071\n",
      "Epoch 4/10\n",
      "WARNING:tensorflow:multiprocessing can interact badly with TensorFlow, causing nondeterministic deadlocks. For high performance data pipelines tf.data is recommended.\n",
      "2/7 [=======>......................] - ETA: 3s - loss: 1.3402"
     ]
    }
   ],
   "source": [
    "model.fit(train_generator, epochs = n_epoch, use_multiprocessing=True,\n",
    "          steps_per_epoch = int(len(X_train) * batch_size ** -1),\n",
    "          validation_data=(X_valid, y_valid),\n",
    "          callbacks=[early_stopping, model_checkpoint]\n",
    "         )\n",
    "\n",
    "model.save(\"models/end_model.h5\")"
   ]
  },
  {
   "cell_type": "code",
   "execution_count": null,
   "id": "909c0f68",
   "metadata": {},
   "outputs": [],
   "source": []
  }
 ],
 "metadata": {
  "kernelspec": {
   "display_name": "Python 3",
   "language": "python",
   "name": "python3"
  },
  "language_info": {
   "codemirror_mode": {
    "name": "ipython",
    "version": 3
   },
   "file_extension": ".py",
   "mimetype": "text/x-python",
   "name": "python",
   "nbconvert_exporter": "python",
   "pygments_lexer": "ipython3",
   "version": "3.8.5"
  },
  "toc": {
   "base_numbering": 1,
   "nav_menu": {},
   "number_sections": true,
   "sideBar": true,
   "skip_h1_title": false,
   "title_cell": "Table of Contents",
   "title_sidebar": "Contents",
   "toc_cell": false,
   "toc_position": {},
   "toc_section_display": true,
   "toc_window_display": false
  },
  "varInspector": {
   "cols": {
    "lenName": 16,
    "lenType": 16,
    "lenVar": 40
   },
   "kernels_config": {
    "python": {
     "delete_cmd_postfix": "",
     "delete_cmd_prefix": "del ",
     "library": "var_list.py",
     "varRefreshCmd": "print(var_dic_list())"
    },
    "r": {
     "delete_cmd_postfix": ") ",
     "delete_cmd_prefix": "rm(",
     "library": "var_list.r",
     "varRefreshCmd": "cat(var_dic_list()) "
    }
   },
   "types_to_exclude": [
    "module",
    "function",
    "builtin_function_or_method",
    "instance",
    "_Feature"
   ],
   "window_display": false
  }
 },
 "nbformat": 4,
 "nbformat_minor": 5
}
