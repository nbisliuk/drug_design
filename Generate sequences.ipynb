{
 "cells": [
  {
   "cell_type": "code",
   "execution_count": 1,
   "id": "30f2a56c",
   "metadata": {},
   "outputs": [],
   "source": [
    "import keras\n",
    "from keras.preprocessing.sequence import pad_sequences\n",
    "from keras.utils import to_categorical\n",
    "\n",
    "import numpy as np\n",
    "import re\n",
    "import pickle\n",
    "\n",
    "from classes import Tokenizer"
   ]
  },
  {
   "cell_type": "code",
   "execution_count": 14,
   "id": "ee8fd211",
   "metadata": {},
   "outputs": [],
   "source": [
    "def sample(preds, temperature=0.75):\n",
    "    preds = np.asarray(preds).astype('float64')\n",
    "    preds = np.log(preds) / temperature\n",
    "    exp_preds = np.exp(preds)\n",
    "    preds = exp_preds / np.sum(exp_preds)\n",
    "    probas = np.random.multinomial(1, preds, 1)\n",
    "    return np.argmax(probas)\n",
    "\n",
    "def generate(num=1, temperature=0.75, start='G'):\n",
    "    \n",
    "    sequences = []\n",
    "    for _ in range(num):\n",
    "        sequence = start\n",
    "        while len(tokenizer.tokenize(sequence)) < maxlen:\n",
    "            X = tokenizer.texts_to_vector(sequence)\n",
    "            X_pred = np.asarray([to_categorical(x, num_classes) for x in X])\n",
    "            preds = model.predict_on_batch(X_pred)[0][-1]\n",
    "            next_index = sample(preds, temperature)\n",
    "            next_char = index_word[next_index]\n",
    "            if next_char == 'E':\n",
    "                break\n",
    "            else:\n",
    "                sequence += next_char\n",
    "                #print(sequence)\n",
    "            \n",
    "        sequences.append(sequence)\n",
    "    return sequences\n",
    "\n",
    "            \n",
    "    "
   ]
  },
  {
   "cell_type": "code",
   "execution_count": 3,
   "id": "76bcb10e",
   "metadata": {},
   "outputs": [],
   "source": [
    "# Load models\n",
    "model = keras.models.load_model(\"models/best_model.h5\")\n",
    "\n",
    "with open('models/tokenizer.pkl', 'rb') as file:\n",
    "    tokenizer = pickle.load(file)\n",
    "    \n",
    "index_word = {value:key for key, value in tokenizer.word_index.items()}\n",
    "maxlen = 128\n",
    "num_classes = tokenizer.vocab_len"
   ]
  },
  {
   "cell_type": "code",
   "execution_count": 20,
   "id": "274fae0d",
   "metadata": {},
   "outputs": [
    {
     "data": {
      "text/plain": [
       "['GSin]Si1(ScAcOCccCCcccCc(O)3()c)C)(Oc)ccCC2O)ccA)AAAAAAAAAAAAAAAAAAAAAAAAAAAAAAAAAAAAAAAAAAAAAAAAAAAAAAAAAAAAAAAAAAAAAAAAAAAAAAAAA']"
      ]
     },
     "execution_count": 20,
     "metadata": {},
     "output_type": "execute_result"
    }
   ],
   "source": [
    "generate(num=1)"
   ]
  },
  {
   "cell_type": "code",
   "execution_count": null,
   "id": "b7a19972",
   "metadata": {},
   "outputs": [],
   "source": []
  }
 ],
 "metadata": {
  "kernelspec": {
   "display_name": "Python 3",
   "language": "python",
   "name": "python3"
  },
  "language_info": {
   "codemirror_mode": {
    "name": "ipython",
    "version": 3
   },
   "file_extension": ".py",
   "mimetype": "text/x-python",
   "name": "python",
   "nbconvert_exporter": "python",
   "pygments_lexer": "ipython3",
   "version": "3.8.5"
  },
  "toc": {
   "base_numbering": 1,
   "nav_menu": {},
   "number_sections": true,
   "sideBar": true,
   "skip_h1_title": false,
   "title_cell": "Table of Contents",
   "title_sidebar": "Contents",
   "toc_cell": false,
   "toc_position": {},
   "toc_section_display": true,
   "toc_window_display": false
  },
  "varInspector": {
   "cols": {
    "lenName": 16,
    "lenType": 16,
    "lenVar": 40
   },
   "kernels_config": {
    "python": {
     "delete_cmd_postfix": "",
     "delete_cmd_prefix": "del ",
     "library": "var_list.py",
     "varRefreshCmd": "print(var_dic_list())"
    },
    "r": {
     "delete_cmd_postfix": ") ",
     "delete_cmd_prefix": "rm(",
     "library": "var_list.r",
     "varRefreshCmd": "cat(var_dic_list()) "
    }
   },
   "types_to_exclude": [
    "module",
    "function",
    "builtin_function_or_method",
    "instance",
    "_Feature"
   ],
   "window_display": false
  }
 },
 "nbformat": 4,
 "nbformat_minor": 5
}
